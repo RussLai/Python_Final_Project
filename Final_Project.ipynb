{
 "cells": [
  {
   "cell_type": "markdown",
   "id": "827a721d",
   "metadata": {},
   "source": [
    "## 1. Evaluate Current Inventory Management Practices\n",
    "\n",
    "Analyze how well the gas stations manage their fuel inventory and order quantities.\n",
    "\n",
    "### Data Preprocessing\n",
    "Concatenate Fuel_Level_Part_1.csv and Fuel_Level_Part_2.csv. \n",
    "\n",
    "Merge the Tanks.csv, Locations.csv, and Invoices.csv datasets. \n",
    "\n",
    "Clean datasets and handle missing values.\n",
    "\n",
    "### Visualize Fuel Levels\n",
    "Create visualizations for each tank to assess inventory trends over time. Identify stations with effective inventory management practices and those at risk of stockouts.\n",
    "\n",
    "### Quantify Current Performance\n",
    "Analyze the Invoices.csv dataset to evaluate current purchasing patterns. Calculate cost savings achieved via discounts for stations 1–8.\n",
    "\n"
   ]
  },
  {
   "cell_type": "code",
   "execution_count": null,
   "id": "c8993495",
   "metadata": {},
   "outputs": [],
   "source": []
  },
  {
   "cell_type": "markdown",
   "id": "e0ab99f0",
   "metadata": {},
   "source": [
    "### 2. Recommend Improved Ordering Strategies\n",
    "\n",
    "Propose strategies to improve fuel order quantities and save costs.\n",
    "\n",
    "#### Quantify Maximum Potential Savings:\n",
    "\n",
    "Use the total tank capacity for each location and fuel type to determine the highest applicable discount rate.\n",
    "\n",
    "Calculate a 7-day inventory threshold based on the average daily consumption for each location and fuel type.\n",
    "\n",
    "Compute potential savings by optimizing order quantities to maximize discounts while maintaining sufficient inventory.\n",
    "\n",
    "#### Provide Recommendations:\n",
    "Offer specific recommendations to improve inventory policies and estimate potential cost savings for each location."
   ]
  },
  {
   "cell_type": "code",
   "execution_count": null,
   "id": "7ff052a2",
   "metadata": {},
   "outputs": [],
   "source": []
  },
  {
   "cell_type": "markdown",
   "id": "50de5eab",
   "metadata": {},
   "source": [
    "### 3. Identify the Best Day for Fuel Orders\n",
    "\n",
    "Analyze whether a specific day of the week consistently offers lower fuel prices.\n",
    "\n",
    "#### • Examine the distribution of price-per-liter rates by day of the week.\n",
    "\n",
    "#### • Identify the day with the lowest historical rates.\n",
    "\n",
    "#### • Calculate additional savings if purchases were consistently made on the identified day.\n"
   ]
  },
  {
   "cell_type": "code",
   "execution_count": null,
   "id": "3fe02990",
   "metadata": {},
   "outputs": [],
   "source": []
  },
  {
   "cell_type": "markdown",
   "id": "1a1d92dd",
   "metadata": {},
   "source": [
    "### 4. Evaluate the Feasibility of Adding Tanks\n",
    "\n",
    "Assess whether increasing tank capacity at certain locations would be beneficial.\n",
    "\n",
    "#### • Assume the cost of adding a new tank and the average inflation rate.\n",
    "#### • Estimate the cost-benefit of increased capacity over a 5-year period.\n",
    "#### • Identify locations that would benefit most from additional tanks.\n"
   ]
  },
  {
   "cell_type": "code",
   "execution_count": null,
   "id": "4d2b85e0",
   "metadata": {},
   "outputs": [],
   "source": []
  }
 ],
 "metadata": {
  "kernelspec": {
   "display_name": "Python 3",
   "language": "python",
   "name": "python3"
  },
  "language_info": {
   "codemirror_mode": {
    "name": "ipython",
    "version": 3
   },
   "file_extension": ".py",
   "mimetype": "text/x-python",
   "name": "python",
   "nbconvert_exporter": "python",
   "pygments_lexer": "ipython3",
   "version": "3.11.3"
  }
 },
 "nbformat": 4,
 "nbformat_minor": 5
}
